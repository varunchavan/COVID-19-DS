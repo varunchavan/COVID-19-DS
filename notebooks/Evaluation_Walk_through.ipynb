{
 "cells": [
  {
   "cell_type": "markdown",
   "metadata": {},
   "source": [
    "# 1. Update all data"
   ]
  },
  {
   "cell_type": "code",
   "execution_count": 1,
   "metadata": {},
   "outputs": [
    {
     "name": "stdout",
     "output_type": "stream",
     "text": [
      "********************\n",
      "Updating database...\n",
      "********************\n",
      "Error: b'From https://github.com/CSSEGISandData/COVID-19\\n * branch              HEAD       -> FETCH_HEAD\\n'\n",
      "Out: b'Reinitialized existing Git repository in C:/Users/Varun/Desktop/ads/data/COVID-19/.git/\\nHEAD is now at 6e011224 Update README.md\\nUpdating 6e011224..d07a81e2\\nFast-forward\\n README.md | 7 +++++++\\n 1 file changed, 7 insertions(+)\\n'\n",
      "********************\n",
      "Database update complete\n",
      "********************\n"
     ]
    }
   ],
   "source": [
    "# %load C:\\Users\\Varun\\Desktop\\ads\\src\\data\\get_data.py\n",
    "import subprocess,os\n",
    "import pandas as pd\n",
    "import requests,json\n",
    "#DIRpath = os.path.join(os.path.dirname(__file__),'../../data/COVID-19') # executing .py file\n",
    "\n",
    "DIRpath = os.path.join('../data/COVID-19/') #executing IPYNB file\n",
    "#InputCSVpath_Relative=os.path.join(DIRpath,InputFilepath)\n",
    "#TargetCSVpath_Relative=os.path.join(DIRpath,TargetFilepath)\n",
    "\n",
    "\n",
    "def UPDATE_DATABASE_WITH_GIT():\n",
    " print('********************')\n",
    " print('Updating database...')\n",
    " print('********************')\n",
    " git_pull= subprocess.Popen('git init & git reset --hard & git pull https://github.com/CSSEGISandData/COVID-19.git',\n",
    "                            cwd=DIRpath,\n",
    "                            shell=True,\n",
    "                            stdout=subprocess.PIPE,\n",
    "                            stderr=subprocess.PIPE)\n",
    " \n",
    " \n",
    " (out,error)=git_pull.communicate()\n",
    " \n",
    "  \n",
    " print('Error:', str(error))\n",
    " print('Out:', str(out))\n",
    " print('********************')\n",
    " print('Database update complete')\n",
    " print('********************')\n",
    "\n",
    "def get_current_data_germany():\n",
    "\n",
    "    restAPIdata=requests.get('https://services7.arcgis.com/mOBPykOjAyBO2ZKk/arcgis/rest/services/Coronaf%C3%A4lle_in_den_Bundesl%C3%A4ndern/FeatureServer/0/query?where=1%3D1&outFields=*&outSR=4326&f=json')\n",
    "\n",
    "    json_object=json.loads(restAPIdata.content)\n",
    "    json_object.keys()\n",
    "    json_object['features'][0]['attributes'] #to access features and 1st index and attributes\n",
    "\n",
    "\n",
    "    Myjsonlist=[]\n",
    "\n",
    "    for items in json_object['features']:\n",
    "    #print(items ['attributes']['LAN_ew_GEN'])\n",
    "    #print(items ['attributes']['Fallzahl'])\n",
    "\n",
    "        Myjsonlist.append(items ['attributes'])\n",
    "\n",
    "    \n",
    "\n",
    "    pd_full_list=pd.DataFrame(Myjsonlist)\n",
    "    #print(Myjsonlist)\n",
    "    pd_full_list.to_csv(r'C:\\Users\\Varun\\Desktop\\ads\\data\\raw\\NPGEO\\GER_state_data.csv',sep=';') \n",
    "    #print('Number of regions rows:'+str(pd_full_list.shape[0]))\n",
    "if __name__ == '__main__':\n",
    "   #get_johns_hopkins()\n",
    "   UPDATE_DATABASE_WITH_GIT()\n",
    "   get_current_data_germany()\n"
   ]
  },
  {
   "cell_type": "markdown",
   "metadata": {},
   "source": [
    "# 2. Process pipeline"
   ]
  },
  {
   "cell_type": "code",
   "execution_count": 2,
   "metadata": {},
   "outputs": [
    {
     "name": "stdout",
     "output_type": "stream",
     "text": [
      " Number of rows stored: 59850\n"
     ]
    }
   ],
   "source": [
    "# %load C:\\Users\\Varun\\Desktop\\ads\\src\\data\\process_JH_data.py\n",
    "import pandas as pd\n",
    "import numpy as np\n",
    "import os\n",
    "\n",
    "from datetime import datetime\n",
    "\n",
    "\n",
    "def store_relational_JH_data():  #function defined to convert the COVID data in a relational data set\n",
    "\n",
    "    #data_path = os.path.join(os.path.dirname(__file__),'../../data/COVID-19/csse_covid_19_data/csse_covid_19_time_series/time_series_covid19_confirmed_global.csv')\n",
    "    data_path=('../data/COVID-19/csse_covid_19_data/csse_covid_19_time_series/time_series_covid19_confirmed_global.csv')\n",
    "    pd_raw=pd.read_csv(data_path)\n",
    "\n",
    "    pd_data_base=pd_raw.rename(columns={'Country/Region':'country',\n",
    "                      'Province/State':'state'})\n",
    "\n",
    "    pd_data_base['state']=pd_data_base['state'].fillna('no')\n",
    "\n",
    "    pd_data_base=pd_data_base.drop(['Lat','Long'],axis=1)\n",
    "\n",
    "\n",
    "    pd_relational_model=pd_data_base.set_index(['state','country']) \\\n",
    "                                .T                              \\\n",
    "                                .stack(level=[0,1])             \\\n",
    "                                .reset_index()                  \\\n",
    "                                .rename(columns={'level_0':'date',\n",
    "                                                   0:'confirmed'},\n",
    "                                                  )\n",
    "    #TargetCSVpath = os.path.join(os.path.dirname(__file__),'../../data/processed/COVID_relational_confirmed.csv')                                            \n",
    "    TargetCSVpath = r'../data/processed/COVID_relational_confirmed.csv'\n",
    "    pd_relational_model['date']=pd_relational_model.date.astype('datetime64[ns]')\n",
    "\n",
    "    pd_relational_model.to_csv(TargetCSVpath,sep=';',index=False)\n",
    "    print(' Number of rows stored: '+str(pd_relational_model.shape[0]))\n",
    "    \n",
    "if __name__ == '__main__':\n",
    "\n",
    "    store_relational_JH_data()\n"
   ]
  },
  {
   "cell_type": "markdown",
   "metadata": {},
   "source": [
    "# 3. Slope calculation"
   ]
  },
  {
   "cell_type": "code",
   "execution_count": null,
   "metadata": {},
   "outputs": [],
   "source": []
  },
  {
   "cell_type": "markdown",
   "metadata": {},
   "source": [
    "# 4. Visual Board"
   ]
  },
  {
   "cell_type": "code",
   "execution_count": null,
   "metadata": {},
   "outputs": [],
   "source": []
  }
 ],
 "metadata": {
  "kernelspec": {
   "display_name": "Python 3",
   "language": "python",
   "name": "python3"
  },
  "language_info": {
   "codemirror_mode": {
    "name": "ipython",
    "version": 3
   },
   "file_extension": ".py",
   "mimetype": "text/x-python",
   "name": "python",
   "nbconvert_exporter": "python",
   "pygments_lexer": "ipython3",
   "version": "3.7.1"
  }
 },
 "nbformat": 4,
 "nbformat_minor": 2
}
